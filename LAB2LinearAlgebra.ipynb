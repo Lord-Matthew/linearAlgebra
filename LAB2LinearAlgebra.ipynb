{
  "nbformat": 4,
  "nbformat_minor": 0,
  "metadata": {
    "colab": {
      "name": "LAB2LinearAlgebra.ipynb",
      "provenance": []
    },
    "kernelspec": {
      "name": "python3",
      "display_name": "Python 3"
    }
  },
  "cells": [
    {
      "cell_type": "markdown",
      "metadata": {
        "id": "PSW2ohxzj4sK"
      },
      "source": [
        "Try to declare 5 different vectors"
      ]
    },
    {
      "cell_type": "code",
      "metadata": {
        "id": "aUz92Tu2hy9Y"
      },
      "source": [
        "import numpy as np\r\n",
        "import matplotlib.pyplot as plt\r\n",
        "from numpy.linalg import norm\r\n",
        "%matplotlib.pylot\r\n"
      ],
      "execution_count": 3,
      "outputs": []
    },
    {
      "cell_type": "code",
      "metadata": {
        "id": "xE5L-kT1jrOi"
      },
      "source": [
        "A_1 = np.array([4,2,3,1])\r\n",
        "A_2 = np.array([5,7,6,8])\r\n",
        "A_3 = np.array([9,8,1,5])\r\n",
        "A_4 = np.array([6,4,2,7])\r\n",
        "A_5 = np.array([7,5,4,6])"
      ],
      "execution_count": 4,
      "outputs": []
    },
    {
      "cell_type": "markdown",
      "metadata": {
        "id": "43xxr_AnkmyT"
      },
      "source": [
        "Perform the following operations in any combination and any number of trials."
      ]
    },
    {
      "cell_type": "markdown",
      "metadata": {
        "id": "9HH3zdVCkrmZ"
      },
      "source": [
        "Addition"
      ]
    },
    {
      "cell_type": "code",
      "metadata": {
        "colab": {
          "base_uri": "https://localhost:8080/"
        },
        "id": "VN0Ir8QakpJX",
        "outputId": "c4ccfe6a-5b9e-4fd7-e97d-dc9da86ff1d5"
      },
      "source": [
        "Addition = A_1 + A_5\r\n",
        "print(Addition)"
      ],
      "execution_count": 13,
      "outputs": [
        {
          "output_type": "stream",
          "text": [
            "[11  7  7  7]\n"
          ],
          "name": "stdout"
        }
      ]
    },
    {
      "cell_type": "markdown",
      "metadata": {
        "id": "rJo2vV2BlOQA"
      },
      "source": [
        " Subtraction"
      ]
    },
    {
      "cell_type": "code",
      "metadata": {
        "colab": {
          "base_uri": "https://localhost:8080/"
        },
        "id": "LdE2KADalOys",
        "outputId": "512bd9a0-87df-45f2-9d2c-f9a81bd544f6"
      },
      "source": [
        "Subtraction = A_2 - A_3\r\n",
        "print(Subtraction)"
      ],
      "execution_count": 14,
      "outputs": [
        {
          "output_type": "stream",
          "text": [
            "[-4 -1  5  3]\n"
          ],
          "name": "stdout"
        }
      ]
    },
    {
      "cell_type": "markdown",
      "metadata": {
        "id": "xtk50hBSkuxo"
      },
      "source": [
        "Multiplication\r\n"
      ]
    },
    {
      "cell_type": "code",
      "metadata": {
        "colab": {
          "base_uri": "https://localhost:8080/"
        },
        "id": "k2HT-08ekxum",
        "outputId": "c5b93987-bee2-4ee9-a233-0f4bd3d49498"
      },
      "source": [
        "Multiplication = A_1 * A_4\r\n",
        "print(Multiplication)"
      ],
      "execution_count": 11,
      "outputs": [
        {
          "output_type": "stream",
          "text": [
            "[24  8  6  7]\n"
          ],
          "name": "stdout"
        }
      ]
    },
    {
      "cell_type": "markdown",
      "metadata": {
        "id": "ZjGpmZ8BlSVx"
      },
      "source": [
        "Division"
      ]
    },
    {
      "cell_type": "code",
      "metadata": {
        "colab": {
          "base_uri": "https://localhost:8080/"
        },
        "id": "7IlqmctylS0_",
        "outputId": "96896ba7-40b2-4a9c-f0c9-ce8fa5bf7bfe"
      },
      "source": [
        "Division = A_2 / A_1\r\n",
        "print(Division)"
      ],
      "execution_count": 17,
      "outputs": [
        {
          "output_type": "stream",
          "text": [
            "[1.25 3.5  2.   8.  ]\n"
          ],
          "name": "stdout"
        }
      ]
    },
    {
      "cell_type": "markdown",
      "metadata": {
        "id": "iVon0uRzkxzq"
      },
      "source": [
        "Squaring"
      ]
    },
    {
      "cell_type": "code",
      "metadata": {
        "colab": {
          "base_uri": "https://localhost:8080/"
        },
        "id": "hu8dwm746jzj",
        "outputId": "55a1671e-3809-4bd8-e5ed-d9c92d6b92a5"
      },
      "source": [
        "A_3=([4,2,3,1])\r\n",
        "print(np.square(A_1))"
      ],
      "execution_count": 22,
      "outputs": [
        {
          "output_type": "stream",
          "text": [
            "[16  4  9  1]\n"
          ],
          "name": "stdout"
        }
      ]
    },
    {
      "cell_type": "markdown",
      "metadata": {
        "id": "ahN3MLvO6jNG"
      },
      "source": [
        "Square Root"
      ]
    },
    {
      "cell_type": "code",
      "metadata": {
        "colab": {
          "base_uri": "https://localhost:8080/"
        },
        "id": "-oP3OXjSkzaA",
        "outputId": "62290621-a245-4ffa-881c-67bb087dce32"
      },
      "source": [
        "A_3 = ([9,8,1,5])\r\n",
        "print(np.sqrt(A_3))"
      ],
      "execution_count": 32,
      "outputs": [
        {
          "output_type": "stream",
          "text": [
            "[3.         2.82842712 1.         2.23606798]\n"
          ],
          "name": "stdout"
        }
      ]
    },
    {
      "cell_type": "markdown",
      "metadata": {
        "id": "don96Bd5kzzZ"
      },
      "source": [
        "Summation"
      ]
    },
    {
      "cell_type": "code",
      "metadata": {
        "colab": {
          "base_uri": "https://localhost:8080/"
        },
        "id": "DpxxlToEk1ah",
        "outputId": "deb5d48f-cde3-4088-ed76-d7b89f8819c9"
      },
      "source": [
        "A_S =([4,2,3,1],\r\n",
        "[5,7,6,8],\r\n",
        "[9,8,1,5],\r\n",
        "[6,4,2,7],\r\n",
        "[7,5,4,6])\r\n",
        "\r\n",
        "print(np.sum(A_S))"
      ],
      "execution_count": 27,
      "outputs": [
        {
          "output_type": "stream",
          "text": [
            "100\n"
          ],
          "name": "stdout"
        }
      ]
    },
    {
      "cell_type": "markdown",
      "metadata": {
        "id": "EFwLR0v-k1gB"
      },
      "source": [
        "Visualize the vectors you have displayed and the results of their operations"
      ]
    },
    {
      "cell_type": "code",
      "metadata": {
        "id": "mHS3-mpBk2x-"
      },
      "source": [
        ""
      ],
      "execution_count": null,
      "outputs": []
    }
  ]
}