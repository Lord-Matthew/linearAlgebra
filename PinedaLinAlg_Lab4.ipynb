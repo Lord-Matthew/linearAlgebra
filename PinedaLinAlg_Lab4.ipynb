{
  "nbformat": 4,
  "nbformat_minor": 0,
  "metadata": {
    "colab": {
      "name": "PinedaLinAlg Lab4.ipynb",
      "provenance": []
    },
    "kernelspec": {
      "name": "python3",
      "display_name": "Python 3"
    }
  },
  "cells": [
    {
      "cell_type": "markdown",
      "metadata": {
        "id": "203OBDWL5HNz"
      },
      "source": [
        "## **TASK 1**"
      ]
    },
    {
      "cell_type": "markdown",
      "metadata": {
        "id": "82Ze8bE25BIP"
      },
      "source": [
        ": \r\n",
        "$$||X|| = \\sqrt{\\sum_{n=1}^{N}x_n^2}$$\r\n"
      ]
    },
    {
      "cell_type": "code",
      "metadata": {
        "colab": {
          "base_uri": "https://localhost:8080/"
        },
        "id": "HHfwcZE-5Rfy",
        "outputId": "198c3485-88d8-4022-c4f5-d3faf4e97116"
      },
      "source": [
        "import numpy as np\r\n",
        "\r\n",
        "AA = ([7,5,3,7,2])\r\n",
        "AB = ([9,2,2,8,4])\r\n",
        "AC = ([8,4,9,4,5])\r\n",
        "AD = ([5,3,7,2,7])\r\n",
        "AE = ([-4,5,-6,9,-7])\r\n",
        "AF = ([-7,-2,1,7,-5])\r\n",
        "\r\n",
        "np.linalg.norm(AA)"
      ],
      "execution_count": 2,
      "outputs": [
        {
          "output_type": "execute_result",
          "data": {
            "text/plain": [
              "11.661903789690601"
            ]
          },
          "metadata": {
            "tags": []
          },
          "execution_count": 2
        }
      ]
    },
    {
      "cell_type": "code",
      "metadata": {
        "colab": {
          "base_uri": "https://localhost:8080/"
        },
        "id": "f7ybu49N6MmL",
        "outputId": "7a14a74a-3e49-47ae-a95f-361235a7bb80"
      },
      "source": [
        "np.linalg.norm(AB)"
      ],
      "execution_count": 3,
      "outputs": [
        {
          "output_type": "execute_result",
          "data": {
            "text/plain": [
              "13.0"
            ]
          },
          "metadata": {
            "tags": []
          },
          "execution_count": 3
        }
      ]
    },
    {
      "cell_type": "code",
      "metadata": {
        "colab": {
          "base_uri": "https://localhost:8080/"
        },
        "id": "Q_4nHK4V6PjE",
        "outputId": "682e6972-f604-4359-c819-1ebd3ba3c3d6"
      },
      "source": [
        "np.linalg.norm(AC)"
      ],
      "execution_count": 4,
      "outputs": [
        {
          "output_type": "execute_result",
          "data": {
            "text/plain": [
              "14.212670403551895"
            ]
          },
          "metadata": {
            "tags": []
          },
          "execution_count": 4
        }
      ]
    },
    {
      "cell_type": "code",
      "metadata": {
        "colab": {
          "base_uri": "https://localhost:8080/"
        },
        "id": "60mA_ggk6Qsq",
        "outputId": "31b28c4f-c5b2-4143-879e-b93ed964d644"
      },
      "source": [
        "np.linalg.norm(AD)"
      ],
      "execution_count": 5,
      "outputs": [
        {
          "output_type": "execute_result",
          "data": {
            "text/plain": [
              "11.661903789690601"
            ]
          },
          "metadata": {
            "tags": []
          },
          "execution_count": 5
        }
      ]
    },
    {
      "cell_type": "code",
      "metadata": {
        "colab": {
          "base_uri": "https://localhost:8080/"
        },
        "id": "byhDRIXV6R8V",
        "outputId": "b7a73a1f-ea09-4a63-aeab-fae26646b1c6"
      },
      "source": [
        "np.linalg.norm(AE)"
      ],
      "execution_count": 6,
      "outputs": [
        {
          "output_type": "execute_result",
          "data": {
            "text/plain": [
              "14.38749456993816"
            ]
          },
          "metadata": {
            "tags": []
          },
          "execution_count": 6
        }
      ]
    },
    {
      "cell_type": "code",
      "metadata": {
        "colab": {
          "base_uri": "https://localhost:8080/"
        },
        "id": "ERxclQtQ6TWS",
        "outputId": "0f07470b-f1d6-4079-bddc-b4e67738ff56"
      },
      "source": [
        "np.linalg.norm(AF)"
      ],
      "execution_count": 7,
      "outputs": [
        {
          "output_type": "execute_result",
          "data": {
            "text/plain": [
              "11.313708498984761"
            ]
          },
          "metadata": {
            "tags": []
          },
          "execution_count": 7
        }
      ]
    },
    {
      "cell_type": "markdown",
      "metadata": {
        "id": "QzjLV3x06eqf"
      },
      "source": [
        "## **TASK 2**"
      ]
    },
    {
      "cell_type": "markdown",
      "metadata": {
        "id": "oAv19Y7G6mDR"
      },
      "source": [
        "\r\n",
        "$$A\\cdot B = \\sum_{n=1}^{N} a_n \\times b_n $$\r\n",
        "$$whereas: N = len(A) = len(B)$$\r\n"
      ]
    },
    {
      "cell_type": "code",
      "metadata": {
        "colab": {
          "base_uri": "https://localhost:8080/"
        },
        "id": "5LM9CMSx6nh6",
        "outputId": "930ca7a2-773e-4da5-d42a-3a37274a76c1"
      },
      "source": [
        "AA = ([7,5,3,7,2])\r\n",
        "AB = ([9,2,2,8,4])\r\n",
        "AC = ([8,4,9,4,5])\r\n",
        "AD = ([5,3,7,2,7])\r\n",
        "AE = ([-4,5,-6,9,-7])\r\n",
        "AF = ([-7,-2,1,8,-5])\r\n",
        "AG = ([5,-4,-1,4,-6])\r\n",
        "AH = ([4,2,-7,5,8])\r\n",
        "AI = ([-7,-2,1,3,-5])\r\n",
        "AJ = ([8,-7,1,7,9])\r\n",
        "      \r\n",
        "## Products by pairs\r\n",
        "A1 = np.inner(AA,AJ)\r\n",
        "A2 = np.inner(AB,AI)\r\n",
        "A3 = np.inner(AH,AC)\r\n",
        "A4 = np.inner(AD,AG)\r\n",
        "A5 = np.inner(AF,AE)\r\n",
        "\r\n",
        "A1, A2, A3, A4, A5"
      ],
      "execution_count": 9,
      "outputs": [
        {
          "output_type": "execute_result",
          "data": {
            "text/plain": [
              "(91, -61, 37, -28, 119)"
            ]
          },
          "metadata": {
            "tags": []
          },
          "execution_count": 9
        }
      ]
    },
    {
      "cell_type": "code",
      "metadata": {
        "id": "wfUMQKze8SyF"
      },
      "source": [
        "#1st Pair\r\n",
        "AA = ([7,5,3,7,2])\r\n",
        "AJ = ([8,-7,1,7,9])\r\n",
        "\r\n",
        "#2nd Pair\r\n",
        "AB = ([9,2,2,8,4])\r\n",
        "AI = ([-7,-2,1,3,-5])\r\n",
        "\r\n",
        "#3rd Pair\r\n",
        "AH = ([4,2,-7,5,8])\r\n",
        "AC = ([8,4,9,4,5])\r\n",
        "\r\n",
        "#4th Pair\r\n",
        "AD = ([5,3,7,2,7])\r\n",
        "AG = ([5,-4,-1,4,-6])\r\n",
        "\r\n",
        "#5th Pair\r\n",
        "AF = ([-7,-2,1,8,-5])\r\n",
        "AE = ([-4,5,-6,9,-7])"
      ],
      "execution_count": 11,
      "outputs": []
    },
    {
      "cell_type": "code",
      "metadata": {
        "colab": {
          "base_uri": "https://localhost:8080/"
        },
        "id": "mbz52EuB9K9m",
        "outputId": "eaa77c38-bcb1-4918-c1bd-43e95c6fee5c"
      },
      "source": [
        "def dot_prod (V1, V10):\r\n",
        "    return sum(V1_i*V10_i for V1_i, V10_i in zip(AA, AJ))\r\n",
        "\r\n",
        "print(\"The Dot Product of the 1st pair  is =\", dot_prod(AA, AJ))\r\n",
        "print(\"The Dot Product of the 2nd pair  is =\", dot_prod(AB, AI))\r\n",
        "print(\"The Dot Product of the 3rd pair  is =\", dot_prod(AH, AC))\r\n",
        "print(\"The Dot Product of the 4th pair  is =\", dot_prod(AD, AG))\r\n",
        "print(\"The Dot Product of the 5th pair  is =\", dot_prod(AF, AE))"
      ],
      "execution_count": 13,
      "outputs": [
        {
          "output_type": "stream",
          "text": [
            "The Dot Product of the 1st pair  is = 91\n",
            "The Dot Product of the 2nd pair  is = 91\n",
            "The Dot Product of the 3rd pair  is = 91\n",
            "The Dot Product of the 4th pair  is = 91\n",
            "The Dot Product of the 5th pair  is = 91\n"
          ],
          "name": "stdout"
        }
      ]
    },
    {
      "cell_type": "markdown",
      "metadata": {
        "id": "D47BQTIP9-gF"
      },
      "source": [
        "## **TASK 3**"
      ]
    },
    {
      "cell_type": "markdown",
      "metadata": {
        "id": "hWIBR4jb-Bnw"
      },
      "source": [
        "$$ ((A^2 + B^2 + C^2) * (A * (B + A*B)./C))*||A + B + C||$$\r\n",
        "$$A = \\begin{bmatrix}-0.4\\\\4.3\\\\-0.6\\end{bmatrix}, B = \\begin{bmatrix}-0.2\\\\0.2\\\\1\\end{bmatrix}, C = \\begin{bmatrix}-0.2\\\\2.1\\\\-1.5\\end{bmatrix}$$"
      ]
    },
    {
      "cell_type": "code",
      "metadata": {
        "colab": {
          "base_uri": "https://localhost:8080/"
        },
        "id": "vX9EOOas-CW8",
        "outputId": "334ed2b1-2372-40e5-f691-d379bb195a84"
      },
      "source": [
        "A = np.array([-0.4, 4.3, -0.6])\r\n",
        "B = np.array([ -0.2, 0.2, 1])\r\n",
        "C = np.array([-0.2, 2.1, -1.5])\r\n",
        "\r\n",
        "first = A.dot(A) + B.dot(B) + C.dot(C)\r\n",
        "second = (A*(B +A * B)/C)\r\n",
        "third = np.linalg.norm(A+B+C)\r\n",
        "\r\n",
        "total = first * second * third\r\n",
        "\r\n",
        "total"
      ],
      "execution_count": 14,
      "outputs": [
        {
          "output_type": "execute_result",
          "data": {
            "text/plain": [
              "array([-43.32710846, 391.83523878,  28.88473897])"
            ]
          },
          "metadata": {
            "tags": []
          },
          "execution_count": 14
        }
      ]
    },
    {
      "cell_type": "code",
      "metadata": {
        "colab": {
          "base_uri": "https://localhost:8080/",
          "height": 248
        },
        "id": "UMNggwp3-Vx5",
        "outputId": "3f5a88c8-792b-4eec-fbfe-353e9edd78bc"
      },
      "source": [
        "import matplotlib.pyplot as plot\r\n",
        "\r\n",
        "fig = plot.figure()\r\n",
        "plotA = fig.gca(projection='3d')\r\n",
        "plotA.quiver(0, 0, 0, total[0], total[1], total[2], colors='r')\r\n",
        "plotA.set_xlim([-200, 300.])\r\n",
        "plotA.set_ylim([-200, 300.])\r\n",
        "plotA.set_zlim([-200, 300.])\r\n",
        "plot.show()"
      ],
      "execution_count": 16,
      "outputs": [
        {
          "output_type": "display_data",
          "data": {
            "image/png": "[encoded data removed]",
            "text/plain": [
              "<Figure size 432x288 with 1 Axes>"
            ]
          },
          "metadata": {
            "tags": [],
            "needs_background": "light"
          }
        }
      ]
    }
  ]
}